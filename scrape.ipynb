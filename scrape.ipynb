{
 "cells": [
  {
   "cell_type": "code",
   "execution_count": 1,
   "metadata": {},
   "outputs": [],
   "source": [
    "\n",
    "import pandas as pd\n",
    "from facebook_scraper import get_posts"
   ]
  },
  {
   "cell_type": "code",
   "execution_count": 12,
   "metadata": {},
   "outputs": [
    {
     "ename": "IndexError",
     "evalue": "list index out of range",
     "output_type": "error",
     "traceback": [
      "\u001b[1;31m---------------------------------------------------------------------------\u001b[0m",
      "\u001b[1;31mIndexError\u001b[0m                                Traceback (most recent call last)",
      "\u001b[1;32m<ipython-input-12-5aa5bd00589e>\u001b[0m in \u001b[0;36m<module>\u001b[1;34m\u001b[0m\n\u001b[0;32m      7\u001b[0m \u001b[1;31m#make a list named colnames that is the keys from the first\u001b[0m\u001b[1;33m\u001b[0m\u001b[1;33m\u001b[0m\u001b[1;33m\u001b[0m\u001b[0m\n\u001b[0;32m      8\u001b[0m \u001b[1;31m#dictionary (the first post) in dat\u001b[0m\u001b[1;33m\u001b[0m\u001b[1;33m\u001b[0m\u001b[1;33m\u001b[0m\u001b[0m\n\u001b[1;32m----> 9\u001b[1;33m \u001b[0mcolNames\u001b[0m \u001b[1;33m=\u001b[0m \u001b[0mlist\u001b[0m\u001b[1;33m(\u001b[0m\u001b[0mdat\u001b[0m\u001b[1;33m[\u001b[0m\u001b[1;36m1\u001b[0m\u001b[1;33m]\u001b[0m\u001b[1;33m.\u001b[0m\u001b[0mkeys\u001b[0m\u001b[1;33m(\u001b[0m\u001b[1;33m)\u001b[0m\u001b[1;33m)\u001b[0m\u001b[1;33m\u001b[0m\u001b[1;33m\u001b[0m\u001b[0m\n\u001b[0m\u001b[0;32m     10\u001b[0m \u001b[1;33m\u001b[0m\u001b[0m\n\u001b[0;32m     11\u001b[0m \u001b[1;31m#create an empty dataframe with rows = to the\u001b[0m\u001b[1;33m\u001b[0m\u001b[1;33m\u001b[0m\u001b[1;33m\u001b[0m\u001b[0m\n",
      "\u001b[1;31mIndexError\u001b[0m: list index out of range"
     ]
    }
   ],
   "source": [
    "#empty list for data\n",
    "dat = []\n",
    "for post in get_posts([\"coronavirus\", \"covid\"], pages=10):\n",
    "    #store each post, which is a dictionary into the dat list\n",
    "\tdat.append(post)\n",
    "\n",
    "#make a list named colnames that is the keys from the first \n",
    "#dictionary (the first post) in dat\n",
    "colNames = list(dat[1].keys())\n",
    "\n",
    "#create an empty dataframe with rows = to the \n",
    "#length of dat (number of posts) and \n",
    "#columns = to the colNames\n",
    "df = pd.DataFrame(index = range(1,len(dat)),columns = colNames)"
   ]
  },
  {
   "cell_type": "code",
   "execution_count": 3,
   "metadata": {},
   "outputs": [],
   "source": [
    "#loop through each post in dat and \n",
    "#append the values of each dictionary (post)\n",
    "#to the dataframe.  In the end each post is one row\n",
    "for i,post in enumerate(dat):\n",
    "\tdf.loc[i] = list(post.values())\n"
   ]
  },
  {
   "cell_type": "code",
   "execution_count": 6,
   "metadata": {},
   "outputs": [
    {
     "data": {
      "text/html": [
       "<div>\n",
       "<style scoped>\n",
       "    .dataframe tbody tr th:only-of-type {\n",
       "        vertical-align: middle;\n",
       "    }\n",
       "\n",
       "    .dataframe tbody tr th {\n",
       "        vertical-align: top;\n",
       "    }\n",
       "\n",
       "    .dataframe thead th {\n",
       "        text-align: right;\n",
       "    }\n",
       "</style>\n",
       "<table border=\"1\" class=\"dataframe\">\n",
       "  <thead>\n",
       "    <tr style=\"text-align: right;\">\n",
       "      <th></th>\n",
       "      <th>post_id</th>\n",
       "      <th>text</th>\n",
       "      <th>post_text</th>\n",
       "      <th>shared_text</th>\n",
       "      <th>time</th>\n",
       "      <th>image</th>\n",
       "      <th>likes</th>\n",
       "      <th>comments</th>\n",
       "      <th>shares</th>\n",
       "      <th>post_url</th>\n",
       "      <th>link</th>\n",
       "    </tr>\n",
       "  </thead>\n",
       "  <tbody>\n",
       "    <tr>\n",
       "      <th>1</th>\n",
       "      <td>163581771851447</td>\n",
       "      <td>South China Morning Post was live.\\n23 hrs ·\\n...</td>\n",
       "      <td></td>\n",
       "      <td>South China Morning Post was live.\\n23 hrs ·\\n...</td>\n",
       "      <td>2020-04-09 22:02:38</td>\n",
       "      <td>None</td>\n",
       "      <td>0</td>\n",
       "      <td>0</td>\n",
       "      <td>0</td>\n",
       "      <td>https://m.facebook.com/story.php?story_fbid=16...</td>\n",
       "      <td>None</td>\n",
       "    </tr>\n",
       "    <tr>\n",
       "      <th>2</th>\n",
       "      <td>163574898518801</td>\n",
       "      <td>Ohio Department of Health\\nYesterday at 10:00 ...</td>\n",
       "      <td></td>\n",
       "      <td>Ohio Department of Health\\nYesterday at 10:00 ...</td>\n",
       "      <td>2020-04-09 21:37:11</td>\n",
       "      <td>None</td>\n",
       "      <td>0</td>\n",
       "      <td>0</td>\n",
       "      <td>0</td>\n",
       "      <td>https://m.facebook.com/story.php?story_fbid=16...</td>\n",
       "      <td>http://www.coronavirus.ohio.gov/</td>\n",
       "    </tr>\n",
       "    <tr>\n",
       "      <th>3</th>\n",
       "      <td>163449568531334</td>\n",
       "      <td>South China Morning Post was live.\\nApril 8 at...</td>\n",
       "      <td></td>\n",
       "      <td>South China Morning Post was live.\\nApril 8 at...</td>\n",
       "      <td>2020-04-09 12:27:06</td>\n",
       "      <td>None</td>\n",
       "      <td>0</td>\n",
       "      <td>0</td>\n",
       "      <td>0</td>\n",
       "      <td>https://m.facebook.com/story.php?story_fbid=16...</td>\n",
       "      <td>None</td>\n",
       "    </tr>\n",
       "    <tr>\n",
       "      <th>4</th>\n",
       "      <td>163448711864753</td>\n",
       "      <td>DAILYMAIL.CO.UK\\nItalian PM warns the EU could...</td>\n",
       "      <td></td>\n",
       "      <td>DAILYMAIL.CO.UK\\nItalian PM warns the EU could...</td>\n",
       "      <td>2020-04-09 12:24:08</td>\n",
       "      <td>https://external-iad3-1.xx.fbcdn.net/safe_imag...</td>\n",
       "      <td>0</td>\n",
       "      <td>0</td>\n",
       "      <td>0</td>\n",
       "      <td>https://m.facebook.com/story.php?story_fbid=16...</td>\n",
       "      <td>https://trib.al/FeXa6cz</td>\n",
       "    </tr>\n",
       "    <tr>\n",
       "      <th>5</th>\n",
       "      <td>163447185198239</td>\n",
       "      <td>DAILYMAIL.CO.UK\\nItaly reaches grim coronaviru...</td>\n",
       "      <td></td>\n",
       "      <td>DAILYMAIL.CO.UK\\nItaly reaches grim coronaviru...</td>\n",
       "      <td>2020-04-09 12:17:33</td>\n",
       "      <td>https://external-iad3-1.xx.fbcdn.net/safe_imag...</td>\n",
       "      <td>0</td>\n",
       "      <td>0</td>\n",
       "      <td>0</td>\n",
       "      <td>https://m.facebook.com/story.php?story_fbid=16...</td>\n",
       "      <td>https://trib.al/hDPTfRV</td>\n",
       "    </tr>\n",
       "  </tbody>\n",
       "</table>\n",
       "</div>"
      ],
      "text/plain": [
       "           post_id                                               text  \\\n",
       "1  163581771851447  South China Morning Post was live.\\n23 hrs ·\\n...   \n",
       "2  163574898518801  Ohio Department of Health\\nYesterday at 10:00 ...   \n",
       "3  163449568531334  South China Morning Post was live.\\nApril 8 at...   \n",
       "4  163448711864753  DAILYMAIL.CO.UK\\nItalian PM warns the EU could...   \n",
       "5  163447185198239  DAILYMAIL.CO.UK\\nItaly reaches grim coronaviru...   \n",
       "\n",
       "  post_text                                        shared_text  \\\n",
       "1            South China Morning Post was live.\\n23 hrs ·\\n...   \n",
       "2            Ohio Department of Health\\nYesterday at 10:00 ...   \n",
       "3            South China Morning Post was live.\\nApril 8 at...   \n",
       "4            DAILYMAIL.CO.UK\\nItalian PM warns the EU could...   \n",
       "5            DAILYMAIL.CO.UK\\nItaly reaches grim coronaviru...   \n",
       "\n",
       "                 time                                              image  \\\n",
       "1 2020-04-09 22:02:38                                               None   \n",
       "2 2020-04-09 21:37:11                                               None   \n",
       "3 2020-04-09 12:27:06                                               None   \n",
       "4 2020-04-09 12:24:08  https://external-iad3-1.xx.fbcdn.net/safe_imag...   \n",
       "5 2020-04-09 12:17:33  https://external-iad3-1.xx.fbcdn.net/safe_imag...   \n",
       "\n",
       "  likes comments shares                                           post_url  \\\n",
       "1     0        0      0  https://m.facebook.com/story.php?story_fbid=16...   \n",
       "2     0        0      0  https://m.facebook.com/story.php?story_fbid=16...   \n",
       "3     0        0      0  https://m.facebook.com/story.php?story_fbid=16...   \n",
       "4     0        0      0  https://m.facebook.com/story.php?story_fbid=16...   \n",
       "5     0        0      0  https://m.facebook.com/story.php?story_fbid=16...   \n",
       "\n",
       "                               link  \n",
       "1                              None  \n",
       "2  http://www.coronavirus.ohio.gov/  \n",
       "3                              None  \n",
       "4           https://trib.al/FeXa6cz  \n",
       "5           https://trib.al/hDPTfRV  "
      ]
     },
     "execution_count": 6,
     "metadata": {},
     "output_type": "execute_result"
    }
   ],
   "source": [
    "df.head()"
   ]
  },
  {
   "cell_type": "code",
   "execution_count": 7,
   "metadata": {},
   "outputs": [
    {
     "data": {
      "text/plain": [
       "pandas.core.series.Series"
      ]
     },
     "execution_count": 7,
     "metadata": {},
     "output_type": "execute_result"
    }
   ],
   "source": [
    "type(df[\"time\"])"
   ]
  },
  {
   "cell_type": "code",
   "execution_count": 8,
   "metadata": {},
   "outputs": [
    {
     "data": {
      "text/plain": [
       "1     2020-04-09 22:02:38\n",
       "2     2020-04-09 21:37:11\n",
       "3     2020-04-09 12:27:06\n",
       "4     2020-04-09 12:24:08\n",
       "5     2020-04-09 12:17:33\n",
       "              ...        \n",
       "154   2020-03-21 14:35:23\n",
       "155   2020-03-21 14:34:40\n",
       "156   2020-03-21 14:21:51\n",
       "157   2020-03-21 10:15:38\n",
       "0     2020-04-09 22:03:10\n",
       "Name: time, Length: 158, dtype: datetime64[ns]"
      ]
     },
     "execution_count": 8,
     "metadata": {},
     "output_type": "execute_result"
    }
   ],
   "source": [
    "df[\"time\"]"
   ]
  },
  {
   "cell_type": "code",
   "execution_count": 11,
   "metadata": {},
   "outputs": [
    {
     "data": {
      "text/plain": [
       "'South China Morning Post was live.\\n23 hrs ·\\nLive figures showing the latest numbers of confirmed cases and deaths in the rapidly spreading coronavirus outbreak that has killed at least 95,000 worldwide.'"
      ]
     },
     "execution_count": 11,
     "metadata": {},
     "output_type": "execute_result"
    }
   ],
   "source": [
    "df[\"text\"][1]"
   ]
  },
  {
   "cell_type": "code",
   "execution_count": null,
   "metadata": {},
   "outputs": [],
   "source": []
  }
 ],
 "metadata": {
  "kernelspec": {
   "display_name": "Python 3",
   "language": "python",
   "name": "python3"
  },
  "language_info": {
   "codemirror_mode": {
    "name": "ipython",
    "version": 3
   },
   "file_extension": ".py",
   "mimetype": "text/x-python",
   "name": "python",
   "nbconvert_exporter": "python",
   "pygments_lexer": "ipython3",
   "version": "3.8.2"
  }
 },
 "nbformat": 4,
 "nbformat_minor": 4
}
